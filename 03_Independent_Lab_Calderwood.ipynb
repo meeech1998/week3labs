{
 "cells": [
  {
   "cell_type": "markdown",
   "id": "47755720-810e-4541-98cb-ef4abf25687e",
   "metadata": {},
   "source": [
    "# Independent Lab: Self-Service Kiosk\n",
    "### Michelle Calderwood | 3.18.2025"
   ]
  },
  {
   "cell_type": "markdown",
   "id": "285abaa3-d8a2-44ae-b4b7-1cb297e7aa12",
   "metadata": {},
   "source": [
    "##### In this assignment, we will build a **Self-Service Kiosk** that allows users to purchase multiple products,\n",
    "##### specify quantities, and process payments. \n",
    "##### Note: I used ChatGPT for help in structuring this code.\n",
    "###### Reference: https://chatgpt.com/share/67d9beee-4c38-8013-9c26-c83ee2257463"
   ]
  },
  {
   "cell_type": "markdown",
   "id": "b626aacf-2a58-4ecd-a79d-1ee7d0a0e4e3",
   "metadata": {},
   "source": [
    "###### -----------------------------\n",
    "#### Step 1: Welcome Message\n",
    "###### -----------------------------"
   ]
  },
  {
   "cell_type": "code",
   "execution_count": 25,
   "id": "ae5bf033-e3ce-4b89-a2de-81198bd8cbcc",
   "metadata": {},
   "outputs": [
    {
     "name": "stdout",
     "output_type": "stream",
     "text": [
      "Welcome to the Automated Self-Service Kiosk!\n",
      "This kiosk allows you to purchase a variety of products with ease.\n",
      "Follow the prompts to make your selections and complete your order.\n"
     ]
    }
   ],
   "source": [
    "print(\"Welcome to the Automated Self-Service Kiosk!\")\n",
    "print(\"This kiosk allows you to purchase a variety of products with ease.\")\n",
    "print(\"Follow the prompts to make your selections and complete your order.\")"
   ]
  },
  {
   "cell_type": "markdown",
   "id": "04732330-2862-4d01-bede-002f6d119015",
   "metadata": {},
   "source": [
    "###### -----------------------------\n",
    "#### Step 2: Define Products and Prices\n",
    "###### -----------------------------"
   ]
  },
  {
   "cell_type": "code",
   "execution_count": 31,
   "id": "a5f64956-1a5a-4787-8946-621ee01cc600",
   "metadata": {},
   "outputs": [
    {
     "name": "stdout",
     "output_type": "stream",
     "text": [
      "\n",
      "Available Products:\n",
      "| ID | Product Name             | Price ($) |\n",
      "|----|--------------------------|----------|\n",
      "| 1  | Organic Matcha Tea       | $4.50   |\n",
      "| 2  | Vegan Protein Bar        | $2.75   |\n",
      "| 3  | Alkaline Water (1L)      | $3.25   |\n",
      "| 4  | Cold Brew Coffee         | $5.00   |\n",
      "| 5  | Electrolyte Drink        | $3.99   |\n"
     ]
    }
   ],
   "source": [
    "products = {\n",
    "    1: {\"name\": \"Organic Matcha Tea\", \"price\": 4.50},\n",
    "    2: {\"name\": \"Vegan Protein Bar\", \"price\": 2.75},\n",
    "    3: {\"name\": \"Alkaline Water (1L)\", \"price\": 3.25},\n",
    "    4: {\"name\": \"Cold Brew Coffee\", \"price\": 5.00},\n",
    "    5: {\"name\": \"Electrolyte Drink\", \"price\": 3.99}\n",
    "}\n",
    "# Display Menu\n",
    "print(\"\\nAvailable Products:\")\n",
    "print(\"| ID | Product Name             | Price ($) |\")\n",
    "print(\"|----|--------------------------|----------|\")\n",
    "for key, item in products.items():\n",
    "    print(f\"| {key}  | {item['name']:<24} | ${item['price']:.2f}   |\")"
   ]
  },
  {
   "cell_type": "markdown",
   "id": "dfe0f240-7c97-4d90-b654-7da44c307ddf",
   "metadata": {},
   "source": [
    "###### -----------------------------\n",
    "#### Step 3: Initialize Order Variable\n",
    "###### -----------------------------"
   ]
  },
  {
   "cell_type": "code",
   "execution_count": 37,
   "id": "6575f5a2-74b2-43f6-bf62-7a9e7bb4e3c5",
   "metadata": {},
   "outputs": [],
   "source": [
    "cart = {}  # Stores selected products and their quantities\n",
    "total_cost = 0.0  # Running total for order"
   ]
  },
  {
   "cell_type": "markdown",
   "id": "c9327e90-7656-4752-8c8b-3a5647379767",
   "metadata": {},
   "source": [
    "###### -----------------------------\n",
    "#### Step 4: Product Selection & Quantity Input\n",
    "###### -----------------------------"
   ]
  },
  {
   "cell_type": "code",
   "execution_count": 39,
   "id": "a5533bd1-80a1-4c95-82e2-6d21b8f6b491",
   "metadata": {},
   "outputs": [
    {
     "name": "stdin",
     "output_type": "stream",
     "text": [
      "\n",
      "Enter the Product ID you wish to purchase (or type 0 to checkout):  4\n",
      "How many of Cold Brew Coffee would you like?  2\n"
     ]
    },
    {
     "name": "stdout",
     "output_type": "stream",
     "text": [
      "\n",
      "Added 2 x Cold Brew Coffee to your cart.\n",
      "Current Total: $10.00\n"
     ]
    },
    {
     "name": "stdin",
     "output_type": "stream",
     "text": [
      "\n",
      "Enter the Product ID you wish to purchase (or type 0 to checkout):  0\n"
     ]
    }
   ],
   "source": [
    "while True:\n",
    "    try:\n",
    "        product_choice = int(input(\"\\nEnter the Product ID you wish to purchase (or type 0 to checkout): \"))\n",
    "\n",
    "        if product_choice == 0:\n",
    "            break  # Exit loop if user wants to checkout\n",
    "\n",
    "        if product_choice not in products:\n",
    "            print(\"Invalid product ID. Please select a valid product.\")\n",
    "            continue  # Restart loop\n",
    "\n",
    "        quantity = int(input(f\"How many of {products[product_choice]['name']} would you like? \"))\n",
    "\n",
    "        if quantity <= 0:\n",
    "            print(\"Quantity must be at least 1. Please try again.\")\n",
    "            continue  # Restart loop\n",
    "\n",
    "        # Add to cart\n",
    "        if product_choice in cart:\n",
    "            cart[product_choice]['quantity'] += quantity  # Update quantity\n",
    "        else:\n",
    "            cart[product_choice] = {\"name\": products[product_choice][\"name\"], \"quantity\": quantity, \"price\": products[product_choice][\"price\"]}\n",
    "\n",
    "        # Update total cost\n",
    "        total_cost += quantity * products[product_choice][\"price\"]\n",
    "\n",
    "        print(f\"\\nAdded {quantity} x {products[product_choice]['name']} to your cart.\")\n",
    "        print(f\"Current Total: ${total_cost:.2f}\")\n",
    "\n",
    "    except ValueError:\n",
    "        print(\"Invalid input. Please enter a valid number.\")"
   ]
  },
  {
   "cell_type": "markdown",
   "id": "06d7661b-b78f-4a99-a5b6-831bc333404c",
   "metadata": {},
   "source": [
    "###### -----------------------------\n",
    "#### Step 5: Checkout & Order Summary \n",
    "###### -----------------------------"
   ]
  },
  {
   "cell_type": "code",
   "execution_count": 43,
   "id": "ae73fae9-2e25-42fd-9716-1b31238f86fd",
   "metadata": {},
   "outputs": [
    {
     "name": "stdout",
     "output_type": "stream",
     "text": [
      "\n",
      "--- Order Summary ---\n",
      "| Product Name             | Quantity | Price ($) | Subtotal ($) |\n",
      "|--------------------------|----------|-----------|--------------|\n",
      "| Cold Brew Coffee         |        2 | $5.00   | $10.00   |\n",
      "\n",
      "Total Amount Due: $10.00\n"
     ]
    }
   ],
   "source": [
    "if cart:\n",
    "    print(\"\\n--- Order Summary ---\")\n",
    "    print(\"| Product Name             | Quantity | Price ($) | Subtotal ($) |\")\n",
    "    print(\"|--------------------------|----------|-----------|--------------|\")\n",
    "    \n",
    "    for item in cart.values():\n",
    "        subtotal = item[\"quantity\"] * item[\"price\"]\n",
    "        print(f\"| {item['name']:<24} | {item['quantity']:>8} | ${item['price']:.2f}   | ${subtotal:.2f}   |\")\n",
    "    \n",
    "    print(f\"\\nTotal Amount Due: ${total_cost:.2f}\")\n",
    "else:\n",
    "    print(\"\\nNo items selected. Thank you for visiting!\")"
   ]
  },
  {
   "cell_type": "markdown",
   "id": "20aa2311-49a6-4e9d-9146-b77a222b70a1",
   "metadata": {},
   "source": [
    "###### -----------------------------\n",
    "#### Step 6: Payment Processing\n",
    "###### -----------------------------"
   ]
  },
  {
   "cell_type": "code",
   "execution_count": 45,
   "id": "20a31355-08b5-4a02-b326-6e372781e4f5",
   "metadata": {},
   "outputs": [
    {
     "name": "stdin",
     "output_type": "stream",
     "text": [
      "\n",
      "Enter payment amount: $ 50\n"
     ]
    },
    {
     "name": "stdout",
     "output_type": "stream",
     "text": [
      "\n",
      "Payment accepted. Your change is $40.00.\n",
      "Thank you for shopping with us!\n"
     ]
    }
   ],
   "source": [
    "while total_cost > 0:\n",
    "    try:\n",
    "        payment = float(input(\"\\nEnter payment amount: $\"))\n",
    "\n",
    "        if payment < total_cost:\n",
    "            print(f\"Insufficient funds. You need at least ${total_cost:.2f}.\")\n",
    "        else:\n",
    "            change = payment - total_cost\n",
    "            print(f\"\\nPayment accepted. Your change is ${change:.2f}.\")\n",
    "            print(\"Thank you for shopping with us!\")\n",
    "            break  # Exit loop after successful payment\n",
    "\n",
    "    except ValueError:\n",
    "        print(\"Invalid input. Please enter a valid amount.\")"
   ]
  }
 ],
 "metadata": {
  "kernelspec": {
   "display_name": "Python [conda env:base] *",
   "language": "python",
   "name": "conda-base-py"
  },
  "language_info": {
   "codemirror_mode": {
    "name": "ipython",
    "version": 3
   },
   "file_extension": ".py",
   "mimetype": "text/x-python",
   "name": "python",
   "nbconvert_exporter": "python",
   "pygments_lexer": "ipython3",
   "version": "3.12.7"
  }
 },
 "nbformat": 4,
 "nbformat_minor": 5
}
