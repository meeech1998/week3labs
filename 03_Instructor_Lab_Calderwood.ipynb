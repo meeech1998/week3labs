{
 "cells": [
  {
   "cell_type": "markdown",
   "id": "3165f23e-8915-4fd8-9007-a1907212a14b",
   "metadata": {},
   "source": [
    "# Instructor-led Lab: Celsius and Fahrenheit Conversion\n",
    "### Michelle Calderwood | 3.18.2025"
   ]
  },
  {
   "cell_type": "markdown",
   "id": "84843f64-5f8e-4b5e-8330-4614947b54c4",
   "metadata": {},
   "source": [
    "##### In this assignment, we revisit our Celsius-to-Fahrenheit converter \n",
    "##### and introduce the Kelvin temperature scale.\n",
    "##### Note: I used ChatGPT for help in structuring this code.\n",
    "###### Reference: https://chatgpt.com/share/67d9beee-4c38-8013-9c26-c83ee2257463"
   ]
  },
  {
   "cell_type": "code",
   "execution_count": 29,
   "id": "610f10a0-d6c3-41f6-918d-45a7f20cd1e5",
   "metadata": {},
   "outputs": [
    {
     "name": "stdout",
     "output_type": "stream",
     "text": [
      "Welcome to my Fahrenheit to Celsius converter!\n"
     ]
    }
   ],
   "source": [
    "# Welcome Message\n",
    "print(\"Welcome to my Fahrenheit to Celsius converter!\")"
   ]
  },
  {
   "cell_type": "markdown",
   "id": "8fafe05d-1618-4227-88b2-3b3e07fff39c",
   "metadata": {},
   "source": [
    "###### -----------------------------\n",
    "#### Step 1: Define Variables\n",
    "###### -----------------------------"
   ]
  },
  {
   "cell_type": "code",
   "execution_count": 37,
   "id": "19e1f835-404d-4677-a44b-5e4e49d187e7",
   "metadata": {},
   "outputs": [],
   "source": [
    "# We define variables for temperature conversion.\n",
    "celsius = 0.0  # Holds the Celsius value from user input\n",
    "fahrenheit = 0.0  # Holds the converted Fahrenheit value\n",
    "kelvin = 0.0  # Holds the converted Kelvin value"
   ]
  },
  {
   "cell_type": "markdown",
   "id": "21727087-8bee-4349-86f4-5532cc44171b",
   "metadata": {},
   "source": [
    "###### ------------------------------------------------------\n",
    "## Kelvin Temperature Scale\n",
    "###### ------------------------------------------------------\n",
    "##### Kelvin is a temperature scale where absolute zero is 0K. \n",
    "##### The formula to convert Celsius to Kelvin is:\n",
    "##### Kelvin = Celsius + 273.15"
   ]
  },
  {
   "cell_type": "markdown",
   "id": "11eeeeb4-cfd4-4f00-8dad-fb19071c5fb6",
   "metadata": {},
   "source": [
    "###### -----------------------------\n",
    "#### Step 2: Get User Input\n",
    "###### -----------------------------\n",
    "##### We ask the user to enter a temperature in Celsius.\n",
    "##### Since `input()` returns a string, we must convert it to `float` to perform calculations."
   ]
  },
  {
   "cell_type": "code",
   "execution_count": 66,
   "id": "c2105c03-f68f-4f03-a41f-85925b8d88f9",
   "metadata": {},
   "outputs": [
    {
     "name": "stdin",
     "output_type": "stream",
     "text": [
      "Please provide a value, in Celsius, to convert:  40\n"
     ]
    }
   ],
   "source": [
    "celsius = float(input(\"Please provide a value, in Celsius, to convert: \"))"
   ]
  },
  {
   "cell_type": "markdown",
   "id": "cdc2ee62-301e-4716-96e5-4aef3abbc98c",
   "metadata": {},
   "source": [
    "###### -----------------------------\n",
    "#### Step 3: Convert Celsius to Fahrenheit\n",
    "###### -----------------------------\n",
    "##### Using the formula:\n",
    "##### Fahrenheit = (9/5) * Celsius + 32"
   ]
  },
  {
   "cell_type": "code",
   "execution_count": 63,
   "id": "19999c0a-545c-41ec-82de-2158af66c663",
   "metadata": {},
   "outputs": [],
   "source": [
    "fahrenheit = (9 / 5) * celsius + 32"
   ]
  },
  {
   "cell_type": "markdown",
   "id": "84bb6db6-d9d7-47bf-9093-80849394b15b",
   "metadata": {},
   "source": [
    "###### -----------------------------\n",
    "#### Step 4: Convert Celsius to Kelvin\n",
    "###### -----------------------------\n",
    "##### Using the formula:\n",
    "##### Kelvin = Celsius + 273.15"
   ]
  },
  {
   "cell_type": "code",
   "execution_count": 70,
   "id": "1d7fecc4-b71b-4a83-a25e-fd9b7c392a6c",
   "metadata": {},
   "outputs": [],
   "source": [
    "kelvin = celsius + 273.15"
   ]
  },
  {
   "cell_type": "markdown",
   "id": "42bee0b2-0b3c-4524-9fee-53bb06cbe84f",
   "metadata": {},
   "source": [
    "###### -----------------------------\n",
    "#### Step 5: Display the Result Using String Interpolation\n",
    "###### -----------------------------"
   ]
  },
  {
   "cell_type": "code",
   "execution_count": 77,
   "id": "250f2c83-a0f1-4f5c-9015-c4aff895c23a",
   "metadata": {},
   "outputs": [
    {
     "name": "stdout",
     "output_type": "stream",
     "text": [
      "40.0°C is 32.0°F which is 313.15K.\n"
     ]
    }
   ],
   "source": [
    "print(f\"{celsius}°C is {fahrenheit}°F which is {kelvin}K.\")"
   ]
  },
  {
   "cell_type": "markdown",
   "id": "1affc6ce-fdaa-4132-863c-b68db4e93c51",
   "metadata": {},
   "source": [
    "###### ------------------------------------------------------\n",
    "## Comparison Operators\n",
    "###### ------------------------------------------------------\n",
    "##### Now that we have values for Celsius, Fahrenheit, and Kelvin, \n",
    "##### we will compare them against a second set of user input values."
   ]
  },
  {
   "cell_type": "markdown",
   "id": "85d1931c-aae0-4435-be40-665f5dba8d27",
   "metadata": {},
   "source": [
    "###### -----------------------------\n",
    "#### Step 6: Get Second Set of Variables\n",
    "###### -----------------------------"
   ]
  },
  {
   "cell_type": "code",
   "execution_count": 112,
   "id": "1ad2b1fd-e617-4383-a2ef-43599fdde0b4",
   "metadata": {},
   "outputs": [
    {
     "name": "stdin",
     "output_type": "stream",
     "text": [
      "Please provide another value, in Celsius, to convert:  2\n"
     ]
    }
   ],
   "source": [
    "# User enters another temperature value for comparison.\n",
    "celsius_two = float(input(\"Please provide another value, in Celsius, to convert: \"))"
   ]
  },
  {
   "cell_type": "code",
   "execution_count": 115,
   "id": "cd1bfb77-65a3-42b6-858f-56725066f6cd",
   "metadata": {},
   "outputs": [
    {
     "name": "stdout",
     "output_type": "stream",
     "text": [
      "Second set of values: 2.0°C is 35.6°F which is 275.15K.\n"
     ]
    }
   ],
   "source": [
    "# Convert second set of values\n",
    "fahrenheit_two = (9 / 5) * celsius_two + 32\n",
    "kelvin_two = celsius_two + 273.15\n",
    "\n",
    "# Display second set of results\n",
    "print(f\"Second set of values: {celsius_two}°C is {fahrenheit_two}°F which is {kelvin_two}K.\")"
   ]
  },
  {
   "cell_type": "markdown",
   "id": "8714ad1e-e106-4250-aceb-92c033a04974",
   "metadata": {},
   "source": [
    "###### -----------------------------\n",
    "#### Step 7: Comparison of Variables\n",
    "###### -----------------------------\n",
    "##### We compare the new temperature values using conditional statements."
   ]
  },
  {
   "cell_type": "code",
   "execution_count": 90,
   "id": "2e71af62-18f7-4f08-8c05-f045e1d1312b",
   "metadata": {},
   "outputs": [
    {
     "name": "stdout",
     "output_type": "stream",
     "text": [
      "The original Celsius value of 40.0 is smaller than the new value of 50.0.\n"
     ]
    }
   ],
   "source": [
    "if celsius > celsius_two:\n",
    "    print(f\"The original Celsius value of {celsius} is larger than the new value of {celsius_two}.\")\n",
    "elif celsius < celsius_two:\n",
    "    print(f\"The original Celsius value of {celsius} is smaller than the new value of {celsius_two}.\")\n",
    "else:\n",
    "    print(f\"The original Celsius value of {celsius} is equal to {celsius_two}.\")"
   ]
  },
  {
   "cell_type": "code",
   "execution_count": 123,
   "id": "0c8d3a8c-a255-4576-ae69-584f578b587f",
   "metadata": {},
   "outputs": [
    {
     "name": "stdout",
     "output_type": "stream",
     "text": [
      "The original Fahrenheit value of 32.0 is smaller than the new value of 35.6.\n"
     ]
    }
   ],
   "source": [
    "if fahrenheit >= fahrenheit_two:\n",
    "    print(f\"The original Fahrenheit value of {fahrenheit} is greater than or equal to the new value of {fahrenheit_two}.\")\n",
    "elif fahrenheit < fahrenheit_two:\n",
    "    print(f\"The original Fahrenheit value of {fahrenheit} is smaller than the new value of {fahrenheit_two}.\")\n",
    "else:\n",
    "    print(f\"The original Fahrenheit value of {fahrenheit} is equal to {fahrenheit_two}.\")"
   ]
  },
  {
   "cell_type": "code",
   "execution_count": 121,
   "id": "97d79acf-43e0-4c62-8592-038274758c8e",
   "metadata": {},
   "outputs": [
    {
     "name": "stdout",
     "output_type": "stream",
     "text": [
      "The original Kelvin value of 313.15 is not equal to the new value of 275.15.\n"
     ]
    }
   ],
   "source": [
    "if kelvin != kelvin_two:\n",
    "    print(f\"The original Kelvin value of {kelvin} is not equal to the new value of {kelvin_two}.\")\n",
    "else:\n",
    "    print(f\"The original Kelvin value of {kelvin} is equal to {kelvin_two}.\")"
   ]
  },
  {
   "cell_type": "markdown",
   "id": "6cdbdc68-74c7-48f1-99f2-794c11426e3a",
   "metadata": {},
   "source": [
    "###### ------------------------------------------------------\n",
    "## Logical Operators\n",
    "###### ------------------------------------------------------\n",
    "##### We will now compare values using logical operators: `and` & `or`"
   ]
  },
  {
   "cell_type": "markdown",
   "id": "38218d14-33b5-4a4a-97d9-29a19ef36800",
   "metadata": {},
   "source": [
    "###### -----------------------------\n",
    "#### Step 8: Logical Operators\n",
    "###### -----------------------------"
   ]
  },
  {
   "cell_type": "code",
   "execution_count": 127,
   "id": "0bf72149-e6ff-46c2-8139-77c88a32faba",
   "metadata": {},
   "outputs": [
    {
     "name": "stdout",
     "output_type": "stream",
     "text": [
      "\n",
      "Evaluating logical AND condition:\n",
      "Python lies.\n"
     ]
    }
   ],
   "source": [
    "# `and` logical operator - Both conditions must be true\n",
    "print(\"\\nEvaluating logical AND condition:\")\n",
    "if celsius == celsius_two and fahrenheit < fahrenheit_two:\n",
    "    print(\"Python speaks the truth!\")\n",
    "else:\n",
    "    print(\"Python lies.\")"
   ]
  },
  {
   "cell_type": "code",
   "execution_count": 102,
   "id": "2bf43d95-1b34-4e38-8078-b69819e1162c",
   "metadata": {},
   "outputs": [
    {
     "name": "stdout",
     "output_type": "stream",
     "text": [
      "\n",
      "Evaluating logical OR condition:\n",
      "Python speaks the truth!\n"
     ]
    }
   ],
   "source": [
    "# `or` logical operator - At least one condition must be true\n",
    "print(\"\\nEvaluating logical OR condition:\")\n",
    "if celsius == celsius_two or kelvin != kelvin_two:\n",
    "    print(\"Python speaks the truth!\")\n",
    "else:\n",
    "    print(\"Python lies.\")"
   ]
  }
 ],
 "metadata": {
  "kernelspec": {
   "display_name": "Python [conda env:base] *",
   "language": "python",
   "name": "conda-base-py"
  },
  "language_info": {
   "codemirror_mode": {
    "name": "ipython",
    "version": 3
   },
   "file_extension": ".py",
   "mimetype": "text/x-python",
   "name": "python",
   "nbconvert_exporter": "python",
   "pygments_lexer": "ipython3",
   "version": "3.12.7"
  }
 },
 "nbformat": 4,
 "nbformat_minor": 5
}
